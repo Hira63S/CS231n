{
 "cells": [
  {
   "cell_type": "markdown",
   "id": "5746a90a-33f1-4deb-9873-4791a9d3148a",
   "metadata": {},
   "source": [
    "## Basics of NNs as implemented in CS231n cours"
   ]
  },
  {
   "cell_type": "code",
   "execution_count": 1,
   "id": "3d67d29a-1190-4ccc-b545-98355d039528",
   "metadata": {},
   "outputs": [],
   "source": [
    "import numpy as np"
   ]
  },
  {
   "cell_type": "code",
   "execution_count": 2,
   "id": "89bd57e8-bfd0-4ff3-be61-137107b16447",
   "metadata": {},
   "outputs": [],
   "source": [
    "# initialize the initial weights:\n",
    "input_size = 1024\n",
    "hidden_size = 50\n",
    "\n",
    "x = np.random.randn(input_size, 1)\n",
    "w1 = np.random.randn(input_size, hidden_size)"
   ]
  },
  {
   "cell_type": "code",
   "execution_count": 7,
   "id": "13cc059a-2d46-4810-9877-b59ab47bddad",
   "metadata": {},
   "outputs": [
    {
     "data": {
      "text/plain": [
       "((1024, 1), (1024, 50))"
      ]
     },
     "execution_count": 7,
     "metadata": {},
     "output_type": "execute_result"
    }
   ],
   "source": [
    "x.shape, w1.shape"
   ]
  },
  {
   "cell_type": "code",
   "execution_count": 8,
   "id": "b5402b73-fb73-4b48-9a5c-3d0f7f698a19",
   "metadata": {},
   "outputs": [
    {
     "data": {
      "text/plain": [
       "(1, 1024)"
      ]
     },
     "execution_count": 8,
     "metadata": {},
     "output_type": "execute_result"
    }
   ],
   "source": [
    "x.T.shape"
   ]
  },
  {
   "cell_type": "code",
   "execution_count": 5,
   "id": "9b104af0-d740-419d-888f-3c1e75fd9184",
   "metadata": {},
   "outputs": [],
   "source": [
    "output = np.dot(x.T, w1)"
   ]
  },
  {
   "cell_type": "code",
   "execution_count": 6,
   "id": "69a9098e-5e46-4bcb-aea1-66f68b25f8f7",
   "metadata": {},
   "outputs": [
    {
     "data": {
      "text/plain": [
       "array([[-20.11085478,  35.02071891,  24.93775942,  -2.36659586,\n",
       "          1.59628459, -12.78552488,  16.81440687, -39.56491769,\n",
       "         18.67920104,   4.52327977, -18.92759083,  10.07248172,\n",
       "         21.3956843 ,  -4.89597183,  -0.08385751, -34.31412537,\n",
       "        -36.47671703, -27.8831657 ,  -7.66784477,  30.12919374,\n",
       "        -61.63725311, -16.9886547 ,  -4.68246539, -17.51276998,\n",
       "          3.02631494, -13.52861579,  33.15528772,  -9.84621777,\n",
       "        -36.29477108,  16.3321049 ,  49.90532226, -11.48086737,\n",
       "        -50.18419546, -12.96374485, -34.43132622,  -9.34524942,\n",
       "         -9.56900791,  13.21988102, -39.05494091,   1.72581154,\n",
       "         41.97053867, -29.58373367,  26.52288077,  32.41503974,\n",
       "         29.50177845,  -0.94247411,  40.75375653,   2.01883975,\n",
       "         15.09616354,   2.37649119]])"
      ]
     },
     "execution_count": 6,
     "metadata": {},
     "output_type": "execute_result"
    }
   ],
   "source": [
    "output"
   ]
  },
  {
   "cell_type": "code",
   "execution_count": 16,
   "id": "c9490224-4a71-4ebb-9592-74bbd8c82588",
   "metadata": {},
   "outputs": [],
   "source": [
    "x = np.array([[6],\n",
    "             [3],\n",
    "              [4]])\n",
    "w1 = np.array([[3, 4, 5, 6],\n",
    "               [9, 0, 1, 2],\n",
    "               [4, 7, 8, 3]])\n"
   ]
  },
  {
   "cell_type": "code",
   "execution_count": 21,
   "id": "4ef2f933-00b8-403f-bac9-57bcdca3e580",
   "metadata": {},
   "outputs": [
    {
     "data": {
      "text/plain": [
       "array([[6],\n",
       "       [3],\n",
       "       [4]])"
      ]
     },
     "execution_count": 21,
     "metadata": {},
     "output_type": "execute_result"
    }
   ],
   "source": [
    "x"
   ]
  },
  {
   "cell_type": "code",
   "execution_count": 22,
   "id": "de253952-20ba-4d4d-9ba3-008d38eb400d",
   "metadata": {},
   "outputs": [
    {
     "data": {
      "text/plain": [
       "array([[6, 3, 4]])"
      ]
     },
     "execution_count": 22,
     "metadata": {},
     "output_type": "execute_result"
    }
   ],
   "source": [
    "x.T"
   ]
  },
  {
   "cell_type": "code",
   "execution_count": 17,
   "id": "1ab5f546-d88a-46b6-9874-a44facc0a6cb",
   "metadata": {},
   "outputs": [
    {
     "data": {
      "text/plain": [
       "((3, 1), (3, 4))"
      ]
     },
     "execution_count": 17,
     "metadata": {},
     "output_type": "execute_result"
    }
   ],
   "source": [
    "x.shape, w1.shape"
   ]
  },
  {
   "cell_type": "code",
   "execution_count": 19,
   "id": "0dc489af-4997-4726-a076-751a85cc73fa",
   "metadata": {},
   "outputs": [
    {
     "data": {
      "text/plain": [
       "(1, 4)"
      ]
     },
     "execution_count": 19,
     "metadata": {},
     "output_type": "execute_result"
    }
   ],
   "source": [
    "outputs = np.dot(x.T, w1)\n",
    "\n",
    "outputs.shape"
   ]
  },
  {
   "cell_type": "code",
   "execution_count": 20,
   "id": "80850526-b075-4511-8f9c-7758b7007213",
   "metadata": {},
   "outputs": [
    {
     "data": {
      "text/plain": [
       "array([[61, 52, 65, 54]])"
      ]
     },
     "execution_count": 20,
     "metadata": {},
     "output_type": "execute_result"
    }
   ],
   "source": [
    "outputs"
   ]
  },
  {
   "cell_type": "code",
   "execution_count": null,
   "id": "235a8faa-87bb-44b7-bc3f-2bae32bf92f2",
   "metadata": {},
   "outputs": [],
   "source": []
  }
 ],
 "metadata": {
  "kernelspec": {
   "display_name": "Python 3 (ipykernel)",
   "language": "python",
   "name": "python3"
  },
  "language_info": {
   "codemirror_mode": {
    "name": "ipython",
    "version": 3
   },
   "file_extension": ".py",
   "mimetype": "text/x-python",
   "name": "python",
   "nbconvert_exporter": "python",
   "pygments_lexer": "ipython3",
   "version": "3.10.0"
  }
 },
 "nbformat": 4,
 "nbformat_minor": 5
}
