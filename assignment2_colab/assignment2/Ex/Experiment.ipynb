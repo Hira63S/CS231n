{
 "cells": [
  {
   "cell_type": "code",
   "execution_count": 1,
   "metadata": {},
   "outputs": [],
   "source": [
    "import os\n",
    "import numpy as np\n",
    "import imageio\n"
   ]
  },
  {
   "cell_type": "code",
   "execution_count": 2,
   "metadata": {},
   "outputs": [],
   "source": [
    "from preprocessing.kitti_util import Calibration"
   ]
  },
  {
   "cell_type": "code",
   "execution_count": 3,
   "metadata": {},
   "outputs": [],
   "source": [
    "def generate_disparity_from_velo(pc_velo, heigh, width, calib):\n",
    "    pass"
   ]
  },
  {
   "cell_type": "code",
   "execution_count": 4,
   "metadata": {},
   "outputs": [],
   "source": [
    "root_dir = 'C://users/cathx/repos/argoverse-api/argo_train/'"
   ]
  },
  {
   "cell_type": "code",
   "execution_count": 5,
   "metadata": {},
   "outputs": [],
   "source": [
    "lidar_dir = root_dir + '/velodyne/'\n",
    "calib_dir = root_dir + '/calib/'\n",
    "image_dir = root_dir + '/image_2/'\n",
    "disparity_dir = root_dir + '/disparity/'\n",
    "split_file = root_dir + '/train.txt'"
   ]
  },
  {
   "cell_type": "code",
   "execution_count": 6,
   "metadata": {},
   "outputs": [],
   "source": [
    "lidar_files = [lid for lid in os.listdir(lidar_dir) if lid[-3:]=='bin']\n",
    "lidar_files = sorted(lidar_files)\n"
   ]
  },
  {
   "cell_type": "code",
   "execution_count": 7,
   "metadata": {},
   "outputs": [
    {
     "name": "stdout",
     "output_type": "stream",
     "text": [
      "6988\n"
     ]
    }
   ],
   "source": [
    "print(len(lidar_files))"
   ]
  },
  {
   "cell_type": "code",
   "execution_count": 8,
   "metadata": {},
   "outputs": [
    {
     "name": "stdout",
     "output_type": "stream",
     "text": [
      "6988\n"
     ]
    }
   ],
   "source": [
    "with open(split_file, 'r') as f:\n",
    "    file_names = [x.strip() for x in f.readlines()]\n",
    "    \n",
    "print(len(file_names))\n",
    "# print(file_names)"
   ]
  },
  {
   "cell_type": "code",
   "execution_count": 9,
   "metadata": {},
   "outputs": [],
   "source": [
    "def generate_disparity_from_velo(pc_velo, heigh, width, calib):\n",
    "    # first projects the velodyne images to reactangle\n",
    "    # then uses the project_rect_to_image to change the nx3 points in rect camera coord\n",
    "    # to nx2 points in the image coordinate.\n",
    "    pts_2d = calib.project_velo_to_image(pc_velo)\n",
    "    "
   ]
  },
  {
   "cell_type": "code",
   "execution_count": 10,
   "metadata": {},
   "outputs": [],
   "source": [
    "for fn in lidar_files:\n",
    "    # get rid of the .bin\n",
    "    predix = fn[:-4]\n",
    "    if predix not in file_names:\n",
    "        continue\n",
    "    calib_file = '{}/{}.txt'.format(calib_dir, predix)\n",
    "    # loading the calibration files\n",
    "    calib = Calibration(calib_file)\n",
    "    \n",
    "#     lidar = np.fromfile(lidar_dir + '/' + fn, dtype=np.float32).reshape((-1, 4))[:, :3]\n",
    "# #     print(lidar)\n",
    "# #     print(lidar.shape)\n",
    "#     image_file = '{}/{}.png'.format(image_dir, predix)\n",
    "#     image = imageio.imread(image_file)\n",
    "#     height, width = image.shape[:2]\n",
    "    "
   ]
  },
  {
   "cell_type": "code",
   "execution_count": 29,
   "metadata": {},
   "outputs": [
    {
     "name": "stdout",
     "output_type": "stream",
     "text": [
      "2056 2464\n"
     ]
    }
   ],
   "source": [
    "# read in the image\n",
    "image_file = '{}/{}.png'.format(image_dir, predix)\n",
    "image = imageio.imread(image_file)\n",
    "height, width = image.shape[:2]\n",
    "print(height, width)"
   ]
  },
  {
   "cell_type": "code",
   "execution_count": 26,
   "metadata": {},
   "outputs": [
    {
     "name": "stdout",
     "output_type": "stream",
     "text": [
      "<preprocessing.kitti_util.Calibration object at 0x000002D51858DF40>\n"
     ]
    }
   ],
   "source": [
    "predix = '000900'\n",
    "calib_file = '{}/{}.txt'.format(calib_dir, predix)\n",
    "calib = Calibration(calib_file)\n",
    "print(calib)"
   ]
  },
  {
   "cell_type": "code",
   "execution_count": 21,
   "metadata": {},
   "outputs": [
    {
     "name": "stdout",
     "output_type": "stream",
     "text": [
      "[ 0.7613791  -4.2393956  -0.43723643 ...  9.124742   -0.2929629\n",
      "  0.        ]\n",
      "346736\n"
     ]
    }
   ],
   "source": [
    "lidar_o = np.fromfile(lidar_dir + '/' + '000100.bin', dtype=np.float32)\n",
    "print(lidar_o)\n",
    "print(len(lidar_o))"
   ]
  },
  {
   "cell_type": "code",
   "execution_count": 38,
   "metadata": {},
   "outputs": [
    {
     "name": "stdout",
     "output_type": "stream",
     "text": [
      "[[-18423.78910212  -7289.59735467]\n",
      " [-63932.66761158    365.49138163]\n",
      " [-22632.35084699    540.13722736]\n",
      " ...\n",
      " [  9139.28474256   1572.83920422]\n",
      " [ 11356.32074307  -1543.63263883]\n",
      " [ 10096.84369327   -447.26568085]]\n",
      "(86684, 2)\n"
     ]
    }
   ],
   "source": [
    "pts_2d = calib.project_velo_to_image(lidar)\n",
    "print(pts_2d)\n",
    "print(pts_2d.shape)"
   ]
  },
  {
   "cell_type": "code",
   "execution_count": 41,
   "metadata": {},
   "outputs": [
    {
     "name": "stdout",
     "output_type": "stream",
     "text": [
      "[[  4.36869542   1.84806998  -0.81616352]\n",
      " [  9.46079663   0.09683404  -0.53278692]\n",
      " [  9.30959261   0.19226467  -1.43227616]\n",
      " ...\n",
      " [-11.09884472  -0.75378506  -5.13784673]\n",
      " [ -8.08801083   2.05126919  -2.92565148]\n",
      " [ -8.95971748   1.49079423  -3.70050095]]\n",
      "(86684, 3)\n",
      "float64\n"
     ]
    }
   ],
   "source": [
    "# before we do project_velo_to_image or the project_velo_to_image uses the function \n",
    "# project_velo_to_rect\n",
    "pts_rect = calib.project_velo_to_rect(lidar)\n",
    "print(pts_rect)\n",
    "print(pts_rect.shape)\n",
    "print(pts_rect.dtype)\n"
   ]
  },
  {
   "cell_type": "code",
   "execution_count": 42,
   "metadata": {},
   "outputs": [
    {
     "name": "stdout",
     "output_type": "stream",
     "text": [
      "[[-18423.78910212  -7289.59735467]\n",
      " [-63932.66761158    365.49138163]\n",
      " [-22632.35084699    540.13722736]\n",
      " ...\n",
      " [  9139.28474256   1572.83920422]\n",
      " [ 11356.32074307  -1543.63263883]\n",
      " [ 10096.84369327   -447.26568085]]\n",
      "(86684, 2)\n",
      "float64\n"
     ]
    }
   ],
   "source": [
    "# THEN, we do project_rect_to_image:\n",
    "pts_image = calib.project_rect_to_image(pts_rect)\n",
    "print(pts_image)\n",
    "print(pts_image.shape)\n",
    "print(pts_image.dtype)"
   ]
  },
  {
   "cell_type": "code",
   "execution_count": 40,
   "metadata": {},
   "outputs": [
    {
     "name": "stdout",
     "output_type": "stream",
     "text": [
      "[[ 0.7613791  -4.2393956  -0.43723643]\n",
      " [ 0.9657892  -9.310095    1.3856323 ]\n",
      " [ 0.06925678 -9.149933    1.2777976 ]\n",
      " ...\n",
      " [-3.4101672  11.310511    1.9058406 ]\n",
      " [-1.2012081   8.236688   -0.8326571 ]\n",
      " [-1.9722378   9.124742   -0.2929629 ]]\n",
      "86684\n",
      "(86684, 3)\n",
      "<class 'numpy.ndarray'>\n"
     ]
    }
   ],
   "source": [
    "lidar = np.fromfile(lidar_dir + '/' + '000100.bin', dtype=np.float32).reshape((-1, 4))[:, :3]\n",
    "print(lidar_o)\n",
    "print(len(lidar_o))\n",
    "print(lidar.shape)\n",
    "print(type(lidar))"
   ]
  },
  {
   "cell_type": "code",
   "execution_count": 30,
   "metadata": {},
   "outputs": [],
   "source": [
    "fov_inds = (pts_2d[:, 0] < width - 1) & (pts_2d[:, 0] >= 0) & \\\n",
    "               (pts_2d[:, 1] < height - 1) & (pts_2d[:, 1] >= 0)"
   ]
  },
  {
   "cell_type": "code",
   "execution_count": 32,
   "metadata": {},
   "outputs": [
    {
     "data": {
      "text/plain": [
       "(86684,)"
      ]
     },
     "execution_count": 32,
     "metadata": {},
     "output_type": "execute_result"
    }
   ],
   "source": [
    "fov_inds.shape"
   ]
  },
  {
   "cell_type": "code",
   "execution_count": null,
   "metadata": {},
   "outputs": [],
   "source": []
  },
  {
   "cell_type": "markdown",
   "metadata": {},
   "source": [
    "# Checking for issues with the Argo Data vs. KITTI"
   ]
  },
  {
   "cell_type": "code",
   "execution_count": 11,
   "metadata": {},
   "outputs": [],
   "source": [
    "import imageio\n",
    "import cv2\n",
    "import os\n",
    "import numpy as np\n",
    "import matplotlib.pyplot as plt\n",
    "from preprocessing import kitti_util"
   ]
  },
  {
   "cell_type": "code",
   "execution_count": 2,
   "metadata": {},
   "outputs": [],
   "source": [
    "argo_dir = 'C://users/cathx/repos/argoverse-api/argo_train'\n",
    "kitti_dir = 'C://users/cathx/repos/PseudoLidar/pseudo_lidar/KITTI/object/training'"
   ]
  },
  {
   "cell_type": "code",
   "execution_count": 25,
   "metadata": {},
   "outputs": [],
   "source": [
    "argo_calib = argo_dir + '/calib/'\n",
    "argo_velodyne = argo_dir + '/velodyne/'\n",
    "argo_image2 = argo_dir + '/image_2/'\n",
    "argo_image3 = argo_dir + '/image_3/'\n",
    "argo_label = argo_dir + '/label_2/'\n",
    "argo_disp = argo_dir + '/disparity/'\n",
    "argo_pdisp = argo_dir + '/predict_disparity'"
   ]
  },
  {
   "cell_type": "code",
   "execution_count": 73,
   "metadata": {},
   "outputs": [],
   "source": [
    "kitti_calib = kitti_dir + '/calib/'\n",
    "kitti_velodyne = kitti_dir + '/velodyne/'\n",
    "kitti_image2 = kitti_dir + '/image_2/'\n",
    "kitti_image3 = kitti_dir + '/image_3/'\n",
    "kitti_label = kitti_dir + '/label_2/'\n",
    "kitti_disp = kitti_dir + '/disparity/'"
   ]
  },
  {
   "cell_type": "code",
   "execution_count": 5,
   "metadata": {},
   "outputs": [],
   "source": [
    "kimages = [x for x in os.listdir(kitti_image2) if x[-3:]=='png' or x[-3:] == 'npy']\n",
    "aimages = [x for x in os.listdir(argo_image2) if x[-3:]=='png']\n"
   ]
  },
  {
   "cell_type": "code",
   "execution_count": 6,
   "metadata": {},
   "outputs": [
    {
     "data": {
      "text/plain": [
       "6988"
      ]
     },
     "execution_count": 6,
     "metadata": {},
     "output_type": "execute_result"
    }
   ],
   "source": [
    "len(kimages)\n",
    "len(aimages)"
   ]
  },
  {
   "cell_type": "markdown",
   "metadata": {},
   "source": [
    "### first:\n",
    "- Load Images\n",
    "- Load Calibration\n",
    "- Load disparity files\n",
    "- Load velodyne "
   ]
  },
  {
   "cell_type": "raw",
   "metadata": {},
   "source": [
    "for i in kimages:\n",
    "    img = imageio.imread(kitti_image2 + '/' + i)\n",
    "#     cv2.imshow('img', img)\n",
    "    "
   ]
  },
  {
   "cell_type": "raw",
   "metadata": {},
   "source": [
    "plt.imshow(img[0])"
   ]
  },
  {
   "cell_type": "code",
   "execution_count": 9,
   "metadata": {},
   "outputs": [
    {
     "data": {
      "text/plain": [
       "(370, 1224, 3)"
      ]
     },
     "execution_count": 9,
     "metadata": {},
     "output_type": "execute_result"
    }
   ],
   "source": [
    "img = cv2.imread(os.path.join(kitti_image2 + '/' + '000000.png'))\n",
    "# cv2.imshow('Image', img)\n",
    "# cv2.waitKey(0)\n",
    "# cv2.destroyAllWindows()\n",
    "img.shape"
   ]
  },
  {
   "cell_type": "code",
   "execution_count": 10,
   "metadata": {},
   "outputs": [
    {
     "data": {
      "text/plain": [
       "(2056, 2464, 3)"
      ]
     },
     "execution_count": 10,
     "metadata": {},
     "output_type": "execute_result"
    }
   ],
   "source": [
    "img = cv2.imread(os.path.join(argo_image2 + '/' + '000000.png'))\n",
    "# cv2.imshow('Image', img)\n",
    "# cv2.waitKey(0)\n",
    "# cv2.destroyAllWindows()\n",
    "img.shape"
   ]
  },
  {
   "cell_type": "code",
   "execution_count": 19,
   "metadata": {},
   "outputs": [
    {
     "data": {
      "text/plain": [
       "['P0: 7.070493000000e+02 0.000000000000e+00 6.040814000000e+02 0.000000000000e+00 0.000000000000e+00 7.070493000000e+02 1.805066000000e+02 0.000000000000e+00 0.000000000000e+00 0.000000000000e+00 1.000000000000e+00 0.000000000000e+00\\n',\n",
       " 'P1: 7.070493000000e+02 0.000000000000e+00 6.040814000000e+02 -3.797842000000e+02 0.000000000000e+00 7.070493000000e+02 1.805066000000e+02 0.000000000000e+00 0.000000000000e+00 0.000000000000e+00 1.000000000000e+00 0.000000000000e+00\\n',\n",
       " 'P2: 7.070493000000e+02 0.000000000000e+00 6.040814000000e+02 4.575831000000e+01 0.000000000000e+00 7.070493000000e+02 1.805066000000e+02 -3.454157000000e-01 0.000000000000e+00 0.000000000000e+00 1.000000000000e+00 4.981016000000e-03\\n',\n",
       " 'P3: 7.070493000000e+02 0.000000000000e+00 6.040814000000e+02 -3.341081000000e+02 0.000000000000e+00 7.070493000000e+02 1.805066000000e+02 2.330660000000e+00 0.000000000000e+00 0.000000000000e+00 1.000000000000e+00 3.201153000000e-03\\n',\n",
       " 'R0_rect: 9.999128000000e-01 1.009263000000e-02 -8.511932000000e-03 -1.012729000000e-02 9.999406000000e-01 -4.037671000000e-03 8.470675000000e-03 4.123522000000e-03 9.999556000000e-01\\n',\n",
       " 'Tr_velo_to_cam: 6.927964000000e-03 -9.999722000000e-01 -2.757829000000e-03 -2.457729000000e-02 -1.162982000000e-03 2.749836000000e-03 -9.999955000000e-01 -6.127237000000e-02 9.999753000000e-01 6.931141000000e-03 -1.143899000000e-03 -3.321029000000e-01\\n',\n",
       " 'Tr_imu_to_velo: 9.999976000000e-01 7.553071000000e-04 -2.035826000000e-03 -8.086759000000e-01 -7.854027000000e-04 9.998898000000e-01 -1.482298000000e-02 3.195559000000e-01 2.024406000000e-03 1.482454000000e-02 9.998881000000e-01 -7.997231000000e-01\\n',\n",
       " '\\n']"
      ]
     },
     "execution_count": 19,
     "metadata": {},
     "output_type": "execute_result"
    }
   ],
   "source": [
    "kitti_calib = open(os.path.join(kitti_calib + '/' + '000000.txt'))\n",
    "# calib = kitti_util.Calibration(os.path.join(argo_calib + '/' + '000000.txt'))\n",
    "kitti_calib.readlines()"
   ]
  },
  {
   "cell_type": "code",
   "execution_count": 18,
   "metadata": {},
   "outputs": [
    {
     "data": {
      "text/plain": [
       "['P0: 0 0 0 0 0 0 0 0 0 0 0 0\\n',\n",
       " 'P1: 0 0 0 0 0 0 0 0 0 0 0 0\\n',\n",
       " 'P2: 3660.425411174431 0.0 1246.9202677240673 0.0 0.0 3660.425411174431 1063.4338217897928 0.0 0.0 0.0 1.0 0.0\\n',\n",
       " 'P3: 0 0 0 0 0 0 0 0 0 0 0 0\\n',\n",
       " 'R0_rect: 1 0 0 0 1 0 0 0 1\\n',\n",
       " 'Tr_velo_to_cam: 0.0011791067474549721 -0.9999732602806191 0.007217231534861368 0.13665588727286176 -0.00488923834063093 -0.007222915076280201 -0.9999619616996687 1.3737862567369516 0.9999873524478833 0.0011437751311049182 -0.0048976241916725005 -1.6132216033055031\\n',\n",
       " 'Tr_imu_to_velu: 0 0 0 0 0 0 0 0 0 0 0 0\\n',\n",
       " '        ']"
      ]
     },
     "execution_count": 18,
     "metadata": {},
     "output_type": "execute_result"
    }
   ],
   "source": [
    "argo_calib = open(os.path.join(argo_calib + '/' + '000000.txt'))\n",
    "# calib = kitti_util.Calibration(os.path.join(argo_calib + '/' + '000000.txt'))\n",
    "argo_calib.readlines()"
   ]
  },
  {
   "cell_type": "code",
   "execution_count": 20,
   "metadata": {},
   "outputs": [
    {
     "data": {
      "text/plain": [
       "array([[-381.806622  , -381.806622  , -381.806622  , ..., -381.806622  ,\n",
       "        -381.806622  , -381.806622  ],\n",
       "       [-381.806622  , -381.806622  , -381.806622  , ..., -381.806622  ,\n",
       "        -381.806622  , -381.806622  ],\n",
       "       [-381.806622  , -381.806622  , -381.806622  , ..., -381.806622  ,\n",
       "        -381.806622  , -381.806622  ],\n",
       "       ...,\n",
       "       [-381.806622  , -381.806622  , -381.806622  , ..., -381.806622  ,\n",
       "        -381.806622  , -381.806622  ],\n",
       "       [-381.806622  , -381.806622  , -381.806622  , ..., -381.806622  ,\n",
       "          71.28876287, -381.806622  ],\n",
       "       [-381.806622  , -381.806622  , -381.806622  , ..., -381.806622  ,\n",
       "        -381.806622  , -381.806622  ]])"
      ]
     },
     "execution_count": 20,
     "metadata": {},
     "output_type": "execute_result"
    }
   ],
   "source": [
    "kitti_disp = np.load(os.path.join(kitti_disp + '/' + '000000.npy'))\n",
    "kitti_disp"
   ]
  },
  {
   "cell_type": "code",
   "execution_count": 21,
   "metadata": {},
   "outputs": [
    {
     "data": {
      "text/plain": [
       "(370, 1224)"
      ]
     },
     "execution_count": 21,
     "metadata": {},
     "output_type": "execute_result"
    }
   ],
   "source": [
    "kitti_disp.shape"
   ]
  },
  {
   "cell_type": "code",
   "execution_count": 22,
   "metadata": {},
   "outputs": [
    {
     "data": {
      "text/plain": [
       "array([[-1976.62972203, -1976.62972203, -1976.62972203, ...,\n",
       "        -1976.62972203, -1976.62972203, -1976.62972203],\n",
       "       [-1976.62972203, -1976.62972203, -1976.62972203, ...,\n",
       "        -1976.62972203, -1976.62972203, -1976.62972203],\n",
       "       [-1976.62972203, -1976.62972203, -1976.62972203, ...,\n",
       "        -1976.62972203, -1976.62972203, -1976.62972203],\n",
       "       ...,\n",
       "       [-1976.62972203, -1976.62972203, -1976.62972203, ...,\n",
       "        -1976.62972203, -1976.62972203, -1976.62972203],\n",
       "       [-1976.62972203, -1976.62972203, -1976.62972203, ...,\n",
       "        -1976.62972203, -1976.62972203, -1976.62972203],\n",
       "       [-1976.62972203, -1976.62972203, -1976.62972203, ...,\n",
       "        -1976.62972203, -1976.62972203, -1976.62972203]])"
      ]
     },
     "execution_count": 22,
     "metadata": {},
     "output_type": "execute_result"
    }
   ],
   "source": [
    "argo_disp = np.load(os.path.join(argo_disp + '/' + '000000.npy'))\n",
    "argo_disp"
   ]
  },
  {
   "cell_type": "code",
   "execution_count": 23,
   "metadata": {},
   "outputs": [
    {
     "data": {
      "text/plain": [
       "(2056, 2464)"
      ]
     },
     "execution_count": 23,
     "metadata": {},
     "output_type": "execute_result"
    }
   ],
   "source": [
    "argo_disp.shape"
   ]
  },
  {
   "cell_type": "code",
   "execution_count": 26,
   "metadata": {},
   "outputs": [
    {
     "data": {
      "text/plain": [
       "array([[  6.0000463,   6.0000463,   6.000405 , ..., 181.       ,\n",
       "        181.       , 181.       ],\n",
       "       [  6.0000215,   6.0000215,   6.0001445, ..., 181.       ,\n",
       "        181.       , 181.       ],\n",
       "       [  6.000004 ,   6.000004 ,   6.0000186, ...,  10.01245  ,\n",
       "         10.005265 ,  10.001251 ],\n",
       "       ...,\n",
       "       [ 21.960743 ,  21.960743 ,  21.98513  , ...,   5.9999704,\n",
       "          5.9870358,   5.1450934],\n",
       "       [ 22.002716 ,  22.002716 ,  22.014984 , ...,   5.9999948,\n",
       "          5.998748 ,   5.76061  ],\n",
       "       [ 22.002716 ,  22.002716 ,  22.014984 , ...,   5.9999948,\n",
       "          5.998748 ,   5.76061  ]], dtype=float32)"
      ]
     },
     "execution_count": 26,
     "metadata": {},
     "output_type": "execute_result"
    }
   ],
   "source": [
    "predicted_disp = np.load(os.path.join(argo_pdisp + '/' + '000000.npy'))\n",
    "predicted_disp"
   ]
  },
  {
   "cell_type": "code",
   "execution_count": 27,
   "metadata": {},
   "outputs": [
    {
     "data": {
      "text/plain": [
       "(383, 1245)"
      ]
     },
     "execution_count": 27,
     "metadata": {},
     "output_type": "execute_result"
    }
   ],
   "source": [
    "predicted_disp.shape"
   ]
  },
  {
   "cell_type": "code",
   "execution_count": 28,
   "metadata": {},
   "outputs": [],
   "source": [
    "# no bueno. No Bueno"
   ]
  },
  {
   "cell_type": "markdown",
   "metadata": {},
   "source": [
    "# Generating Lidar"
   ]
  },
  {
   "cell_type": "code",
   "execution_count": 29,
   "metadata": {},
   "outputs": [],
   "source": [
    "argo_dir = 'C://users/cathx/repos/argoverse-api/argo_train'\n",
    "\n",
    "argo_calib = argo_dir + '/calib/'\n",
    "argo_velodyne = argo_dir + '/velodyne/'\n",
    "argo_image2 = argo_dir + '/image_2/'\n",
    "argo_image3 = argo_dir + '/image_3/'\n",
    "argo_label = argo_dir + '/label_2/'\n",
    "argo_disp = argo_dir + '/disparity/'\n",
    "argo_pdisp = argo_dir + '/p_disparity'\n",
    "split_file = argo_dir + '/train.txt'"
   ]
  },
  {
   "cell_type": "code",
   "execution_count": 31,
   "metadata": {},
   "outputs": [],
   "source": [
    "if not os.path.isdir(argo_pdisp):\n",
    "    os.makedirs(argo_pdisp)"
   ]
  },
  {
   "cell_type": "code",
   "execution_count": 32,
   "metadata": {},
   "outputs": [],
   "source": [
    "# load the lidar files:\n",
    "lidar = [x for x in os.listdir(argo_velodyne) if x [-3:] == 'bin']\n",
    "lidar = sorted(lidar)"
   ]
  },
  {
   "cell_type": "code",
   "execution_count": 33,
   "metadata": {},
   "outputs": [],
   "source": [
    "assert os.path.isfile(split_file)\n",
    "with open(split_file, 'r') as f:\n",
    "    filenames = [x.strip() for x in f.readlines()]\n",
    "# filenames[:10]"
   ]
  },
  {
   "cell_type": "code",
   "execution_count": null,
   "metadata": {},
   "outputs": [],
   "source": [
    "for fn in lidar:\n",
    "    predix = fn[:-4]\n",
    "    if predix not in filenames:\n",
    "        continue\n",
    "    \n",
    "    calib_file = '{}/{}.txt'.format(argo_calib, predix)\n",
    "    calib = kitti_util.Calibration(calib_file)\n",
    "    lidar = np.fromfile(argo_velodyne + '/' + fn, dtype=np.float32).reshape((-1, 4))[:, :3]\n",
    "    image_file = '{}/{}.png'.format(image_dir, predix)\n",
    "    image = imageio.imread(image_file)\n",
    "    height, width = image.shape[:2]\n",
    "    disp = generate_disparity_from_velo(lidar, height, width, calib)\n",
    "    np.save(disparity_dir + '/' + predix, disp)\n",
    "    print('Finished Disparity {}'.format(predix))"
   ]
  },
  {
   "cell_type": "code",
   "execution_count": null,
   "metadata": {},
   "outputs": [],
   "source": [
    "def generate_disparity_from_velo(lidar, height, width, calib):\n",
    "    pts_2d = calib.project_velo_to_image(lidar)\n",
    "    fov_inds = (pts_2d[:, 0] < width -1) & (pts_2d[:,0] >= 0) & \\\n",
    "                (pts_2d[:, 1] < height - 1) * (pts_2d[:,1] >= 0)\n",
    "    fov_inds"
   ]
  },
  {
   "cell_type": "code",
   "execution_count": 35,
   "metadata": {},
   "outputs": [],
   "source": [
    "calib_file = '{}/{}.txt'.format(argo_calib, '000000')\n",
    "calib = kitti_util.Calibration(calib_file)"
   ]
  },
  {
   "cell_type": "code",
   "execution_count": 74,
   "metadata": {},
   "outputs": [],
   "source": [
    "calib_file = '{}/{}.txt'.format(kitti_calib, '000000')\n",
    "calib = kitti_util.Calibration(calib_file)"
   ]
  },
  {
   "cell_type": "code",
   "execution_count": 81,
   "metadata": {},
   "outputs": [],
   "source": [
    "lidar = np.fromfile(argo_velodyne + '/' + '000000.bin', dtype=np.float32).reshape((-1, 4))[:, :3]"
   ]
  },
  {
   "cell_type": "code",
   "execution_count": 82,
   "metadata": {},
   "outputs": [],
   "source": [
    "k_lidar = np.fromfile(kitti_velodyne + '/' + '000000.bin', dtype=np.float32).reshape((-1, 4))[:, :3]"
   ]
  },
  {
   "cell_type": "code",
   "execution_count": 83,
   "metadata": {},
   "outputs": [
    {
     "data": {
      "text/plain": [
       "(86185, 3)"
      ]
     },
     "execution_count": 83,
     "metadata": {},
     "output_type": "execute_result"
    }
   ],
   "source": [
    "lidar.shape"
   ]
  },
  {
   "cell_type": "code",
   "execution_count": 84,
   "metadata": {},
   "outputs": [
    {
     "data": {
      "text/plain": [
       "(115384, 3)"
      ]
     },
     "execution_count": 84,
     "metadata": {},
     "output_type": "execute_result"
    }
   ],
   "source": [
    "k_lidar.shape"
   ]
  },
  {
   "cell_type": "code",
   "execution_count": 76,
   "metadata": {},
   "outputs": [
    {
     "name": "stdout",
     "output_type": "stream",
     "text": [
      "[[602.0853193  141.7459889 ]\n",
      " [599.8489135  141.81345282]\n",
      " [596.12144246 149.02292823]\n",
      " ...\n",
      " [907.61576863 520.91062242]\n",
      " [904.84647192 520.52796994]\n",
      " [900.24350935 520.43991183]]\n"
     ]
    }
   ],
   "source": [
    "pts_2d = calib.project_velo_to_image(lidar)\n",
    "print(pts_2d)"
   ]
  },
  {
   "cell_type": "code",
   "execution_count": 41,
   "metadata": {},
   "outputs": [
    {
     "data": {
      "text/plain": [
       "(86185, 2)"
      ]
     },
     "execution_count": 41,
     "metadata": {},
     "output_type": "execute_result"
    }
   ],
   "source": [
    "pts_2d.shape"
   ]
  },
  {
   "cell_type": "code",
   "execution_count": 77,
   "metadata": {},
   "outputs": [
    {
     "data": {
      "text/plain": [
       "(115384, 2)"
      ]
     },
     "execution_count": 77,
     "metadata": {},
     "output_type": "execute_result"
    }
   ],
   "source": [
    "pts_2d.shape"
   ]
  },
  {
   "cell_type": "code",
   "execution_count": 43,
   "metadata": {},
   "outputs": [
    {
     "data": {
      "text/plain": [
       "(86185, 3)"
      ]
     },
     "execution_count": 43,
     "metadata": {},
     "output_type": "execute_result"
    }
   ],
   "source": [
    "lidar.shape"
   ]
  },
  {
   "cell_type": "code",
   "execution_count": 78,
   "metadata": {},
   "outputs": [
    {
     "data": {
      "text/plain": [
       "(115384, 3)"
      ]
     },
     "execution_count": 78,
     "metadata": {},
     "output_type": "execute_result"
    }
   ],
   "source": [
    "lidar.shape"
   ]
  },
  {
   "cell_type": "code",
   "execution_count": 45,
   "metadata": {},
   "outputs": [
    {
     "data": {
      "text/plain": [
       "86185"
      ]
     },
     "execution_count": 45,
     "metadata": {},
     "output_type": "execute_result"
    }
   ],
   "source": [
    "n = lidar.shape[0]\n",
    "n"
   ]
  },
  {
   "cell_type": "code",
   "execution_count": 89,
   "metadata": {},
   "outputs": [],
   "source": [
    "pts_3d = np.hstack((lidar, np.ones((n, 1))))\n",
    "# pts_3d"
   ]
  },
  {
   "cell_type": "code",
   "execution_count": 80,
   "metadata": {},
   "outputs": [
    {
     "data": {
      "text/plain": [
       "(86185, 4)"
      ]
     },
     "execution_count": 80,
     "metadata": {},
     "output_type": "execute_result"
    }
   ],
   "source": [
    "pts_3d.shape"
   ]
  },
  {
   "cell_type": "code",
   "execution_count": 59,
   "metadata": {},
   "outputs": [],
   "source": [
    "V2C = [[0.0011791067474549721, -0.9999732602806191, 0.007217231534861368, 0.13665588727286176],\n",
    "       [-0.00488923834063093, -0.007222915076280201, -0.9999619616996687, 1.3737862567369516],\n",
    "       [0.9999873524478833, 0.0011437751311049182, -0.0048976241916725005, -1.6132216033055031]]"
   ]
  },
  {
   "cell_type": "code",
   "execution_count": 56,
   "metadata": {},
   "outputs": [
    {
     "data": {
      "text/plain": [
       "['P0: 0 0 0 0 0 0 0 0 0 0 0 0\\n',\n",
       " 'P1: 0 0 0 0 0 0 0 0 0 0 0 0\\n',\n",
       " 'P2: 3660.425411174431 0.0 1246.9202677240673 0.0 0.0 3660.425411174431 1063.4338217897928 0.0 0.0 0.0 1.0 0.0\\n',\n",
       " 'P3: 0 0 0 0 0 0 0 0 0 0 0 0\\n',\n",
       " 'R0_rect: 1 0 0 0 1 0 0 0 1\\n',\n",
       " 'Tr_velo_to_cam: 0.0011791067474549721 -0.9999732602806191 0.007217231534861368 0.13665588727286176 -0.00488923834063093 -0.007222915076280201 -0.9999619616996687 1.3737862567369516 0.9999873524478833 0.0011437751311049182 -0.0048976241916725005 -1.6132216033055031\\n',\n",
       " 'Tr_imu_to_velu: 0 0 0 0 0 0 0 0 0 0 0 0\\n',\n",
       " '        ']"
      ]
     },
     "execution_count": 56,
     "metadata": {},
     "output_type": "execute_result"
    }
   ],
   "source": [
    "calib_file = '{}/{}.txt'.format(argo_calib, '000000')\n",
    "calibs = open(calib_file)\n",
    "calibs = calibs.readlines()\n",
    "calibs\n",
    "# V2C = calibs['TR_velo_to_cam']\n",
    "# V2C?"
   ]
  },
  {
   "cell_type": "code",
   "execution_count": 60,
   "metadata": {},
   "outputs": [
    {
     "data": {
      "text/plain": [
       "array([[ 3.32243457,  1.32410844, -0.62892848],\n",
       "       [ 9.3925415 ,  0.04693034, -0.43283028],\n",
       "       [ 9.58285897,  0.1703532 , -1.36353465],\n",
       "       ...,\n",
       "       [-8.02896536,  2.14747973, -2.97541574],\n",
       "       [-8.55145015,  1.54158231, -3.63269774],\n",
       "       [-8.56561121, -0.37380738, -3.17267264]])"
      ]
     },
     "execution_count": 60,
     "metadata": {},
     "output_type": "execute_result"
    }
   ],
   "source": [
    "output_velo_to_ref = np.dot(pts_3d, np.transpose(V2C))\n",
    "output_velo_to_ref"
   ]
  },
  {
   "cell_type": "code",
   "execution_count": 61,
   "metadata": {},
   "outputs": [
    {
     "data": {
      "text/plain": [
       "(86185, 3)"
      ]
     },
     "execution_count": 61,
     "metadata": {},
     "output_type": "execute_result"
    }
   ],
   "source": [
    "output_velo_to_ref.shape"
   ]
  },
  {
   "cell_type": "code",
   "execution_count": 62,
   "metadata": {},
   "outputs": [],
   "source": [
    "R0 = [[1, 0, 0],\n",
    "[0, 1, 0],\n",
    "[0, 0, 1]]"
   ]
  },
  {
   "cell_type": "code",
   "execution_count": 63,
   "metadata": {},
   "outputs": [],
   "source": [
    "# project_ref_to_rect\n",
    "final_rect = np.transpose(np.dot(R0, np.transpose(output_velo_to_ref)))"
   ]
  },
  {
   "cell_type": "code",
   "execution_count": 64,
   "metadata": {},
   "outputs": [
    {
     "data": {
      "text/plain": [
       "array([[ 3.32243457,  1.32410844, -0.62892848],\n",
       "       [ 9.3925415 ,  0.04693034, -0.43283028],\n",
       "       [ 9.58285897,  0.1703532 , -1.36353465],\n",
       "       ...,\n",
       "       [-8.02896536,  2.14747973, -2.97541574],\n",
       "       [-8.55145015,  1.54158231, -3.63269774],\n",
       "       [-8.56561121, -0.37380738, -3.17267264]])"
      ]
     },
     "execution_count": 64,
     "metadata": {},
     "output_type": "execute_result"
    }
   ],
   "source": [
    "final_rect"
   ]
  },
  {
   "cell_type": "code",
   "execution_count": 65,
   "metadata": {},
   "outputs": [
    {
     "data": {
      "text/plain": [
       "(86185, 3)"
      ]
     },
     "execution_count": 65,
     "metadata": {},
     "output_type": "execute_result"
    }
   ],
   "source": [
    "final_rect.shape"
   ]
  },
  {
   "cell_type": "code",
   "execution_count": 85,
   "metadata": {},
   "outputs": [
    {
     "data": {
      "text/plain": [
       "(383, 1245)"
      ]
     },
     "execution_count": 85,
     "metadata": {},
     "output_type": "execute_result"
    }
   ],
   "source": [
    "new_disp = np.load(os.path.join(argo_dir + '/pred_disparity/000000.npy'))\n",
    "new_disp.shape"
   ]
  },
  {
   "cell_type": "code",
   "execution_count": 88,
   "metadata": {},
   "outputs": [
    {
     "data": {
      "text/plain": [
       "array([[  6.0000463,   6.0000463,   6.000405 , ..., 181.       ,\n",
       "        181.       , 181.       ],\n",
       "       [  6.0000215,   6.0000215,   6.0001445, ..., 181.       ,\n",
       "        181.       , 181.       ],\n",
       "       [  6.000004 ,   6.000004 ,   6.0000186, ...,  10.01245  ,\n",
       "         10.005265 ,  10.001251 ],\n",
       "       ...,\n",
       "       [ 21.960743 ,  21.960743 ,  21.98513  , ...,   5.9999704,\n",
       "          5.9870358,   5.1450934],\n",
       "       [ 22.002716 ,  22.002716 ,  22.014984 , ...,   5.9999948,\n",
       "          5.998748 ,   5.76061  ],\n",
       "       [ 22.002716 ,  22.002716 ,  22.014984 , ...,   5.9999948,\n",
       "          5.998748 ,   5.76061  ]], dtype=float32)"
      ]
     },
     "execution_count": 88,
     "metadata": {},
     "output_type": "execute_result"
    }
   ],
   "source": [
    "new_disp"
   ]
  },
  {
   "cell_type": "code",
   "execution_count": 86,
   "metadata": {},
   "outputs": [
    {
     "data": {
      "text/plain": [
       "array([[-381.806622  , -381.806622  , -381.806622  , ..., -381.806622  ,\n",
       "        -381.806622  , -381.806622  ],\n",
       "       [-381.806622  , -381.806622  , -381.806622  , ..., -381.806622  ,\n",
       "        -381.806622  , -381.806622  ],\n",
       "       [-381.806622  , -381.806622  , -381.806622  , ..., -381.806622  ,\n",
       "        -381.806622  , -381.806622  ],\n",
       "       ...,\n",
       "       [-381.806622  , -381.806622  , -381.806622  , ..., -381.806622  ,\n",
       "        -381.806622  , -381.806622  ],\n",
       "       [-381.806622  , -381.806622  , -381.806622  , ..., -381.806622  ,\n",
       "          71.28876287, -381.806622  ],\n",
       "       [-381.806622  , -381.806622  , -381.806622  , ..., -381.806622  ,\n",
       "        -381.806622  , -381.806622  ]])"
      ]
     },
     "execution_count": 86,
     "metadata": {},
     "output_type": "execute_result"
    }
   ],
   "source": [
    "old_disp = np.load(os.path.join(kitti_dir + '/disparity/000000.npy'))\n",
    "old_disp"
   ]
  },
  {
   "cell_type": "code",
   "execution_count": 87,
   "metadata": {},
   "outputs": [
    {
     "data": {
      "text/plain": [
       "(370, 1224)"
      ]
     },
     "execution_count": 87,
     "metadata": {},
     "output_type": "execute_result"
    }
   ],
   "source": [
    "old_disp.shape"
   ]
  },
  {
   "cell_type": "code",
   "execution_count": 90,
   "metadata": {},
   "outputs": [
    {
     "data": {
      "text/plain": [
       "array([[ 6.000043 ,  6.000043 ,  6.0001287, ..., 25.094204 , 25.361883 ,\n",
       "        25.759272 ],\n",
       "       [ 6.0000286,  6.0000286,  6.000063 , ..., 25.046757 , 25.242401 ,\n",
       "        25.67875  ],\n",
       "       [ 6.0006027,  6.0006027,  6.0000534, ..., 24.99519  , 25.08181  ,\n",
       "        25.482426 ],\n",
       "       ...,\n",
       "       [72.44437  , 72.44437  , 72.47504  , ...,  9.355137 ,  9.181206 ,\n",
       "         9.055973 ],\n",
       "       [72.79576  , 72.79576  , 72.819565 , ..., 29.963627 , 10.169769 ,\n",
       "         9.196623 ],\n",
       "       [72.79576  , 72.79576  , 72.819565 , ..., 29.963627 , 10.169769 ,\n",
       "         9.196623 ]], dtype=float32)"
      ]
     },
     "execution_count": 90,
     "metadata": {},
     "output_type": "execute_result"
    }
   ],
   "source": [
    "pseudo_dir = 'C://users/cathx/repos/PseudoLidar/pseudo_lidar/'\n",
    "lidar = np.load(pseudo_dir + '/pred_disparity/000000.npy')\n",
    "lidar"
   ]
  },
  {
   "cell_type": "code",
   "execution_count": 95,
   "metadata": {},
   "outputs": [
    {
     "data": {
      "text/plain": [
       "(383, 1245)"
      ]
     },
     "execution_count": 95,
     "metadata": {},
     "output_type": "execute_result"
    }
   ],
   "source": [
    "lidar.shape"
   ]
  },
  {
   "cell_type": "code",
   "execution_count": 91,
   "metadata": {},
   "outputs": [
    {
     "data": {
      "text/plain": [
       "array([[  6.0000463,   6.0000463,   6.000405 , ..., 181.       ,\n",
       "        181.       , 181.       ],\n",
       "       [  6.0000215,   6.0000215,   6.0001445, ..., 181.       ,\n",
       "        181.       , 181.       ],\n",
       "       [  6.000004 ,   6.000004 ,   6.0000186, ...,  10.01245  ,\n",
       "         10.005265 ,  10.001251 ],\n",
       "       ...,\n",
       "       [ 21.960743 ,  21.960743 ,  21.98513  , ...,   5.9999704,\n",
       "          5.9870358,   5.1450934],\n",
       "       [ 22.002716 ,  22.002716 ,  22.014984 , ...,   5.9999948,\n",
       "          5.998748 ,   5.76061  ],\n",
       "       [ 22.002716 ,  22.002716 ,  22.014984 , ...,   5.9999948,\n",
       "          5.998748 ,   5.76061  ]], dtype=float32)"
      ]
     },
     "execution_count": 91,
     "metadata": {},
     "output_type": "execute_result"
    }
   ],
   "source": [
    "lidar2 = np.load(argo_dir + '/predict_disparity/000000.npy')\n",
    "lidar2"
   ]
  },
  {
   "cell_type": "code",
   "execution_count": 92,
   "metadata": {},
   "outputs": [
    {
     "data": {
      "text/plain": [
       "(383, 1245)"
      ]
     },
     "execution_count": 92,
     "metadata": {},
     "output_type": "execute_result"
    }
   ],
   "source": [
    "lidar2.shape"
   ]
  },
  {
   "cell_type": "code",
   "execution_count": 11,
   "metadata": {},
   "outputs": [],
   "source": [
    "from preprocessing import kitti_util\n",
    "import numpy as np"
   ]
  },
  {
   "cell_type": "code",
   "execution_count": 4,
   "metadata": {},
   "outputs": [],
   "source": [
    "argo_calib = 'C://users/cathx/repos/argoverse-api/argo_train/calib/'\n",
    "calib_file = '{}/{}.txt'.format(argo_calib, '000000')\n",
    "calib = kitti_util.Calibration(calib_file)"
   ]
  },
  {
   "cell_type": "code",
   "execution_count": 13,
   "metadata": {},
   "outputs": [],
   "source": [
    "argo_dir = 'C://users/cathx/repos/argoverse-api/argo_train/'"
   ]
  },
  {
   "cell_type": "code",
   "execution_count": 42,
   "metadata": {},
   "outputs": [],
   "source": [
    "lidar_dir = argo_dir + '/velodyne'\n",
    "lidar_file\n",
    "lidar = np.fromfile(lidar_dir + '/' + '000000.bin', dtype=np.float32).reshape((-1, 4))[:, :3]"
   ]
  },
  {
   "cell_type": "code",
   "execution_count": 43,
   "metadata": {},
   "outputs": [
    {
     "data": {
      "text/plain": [
       "array([[ 0.98827994, -3.1842089 ,  0.06784773],\n",
       "       [ 1.1977774 , -9.244704  ,  1.3878262 ],\n",
       "       [ 0.26670575, -9.436973  ,  1.2703398 ],\n",
       "       ...,\n",
       "       [-1.3755878 ,  8.158257  , -0.8259257 ],\n",
       "       [-2.0305152 ,  8.684352  , -0.22060311],\n",
       "       [-1.5611478 ,  8.712873  ,  1.6923585 ]], dtype=float32)"
      ]
     },
     "execution_count": 43,
     "metadata": {},
     "output_type": "execute_result"
    }
   ],
   "source": [
    "lidar"
   ]
  },
  {
   "cell_type": "code",
   "execution_count": 20,
   "metadata": {},
   "outputs": [
    {
     "data": {
      "text/plain": [
       "(86185, 3)"
      ]
     },
     "execution_count": 20,
     "metadata": {},
     "output_type": "execute_result"
    }
   ],
   "source": [
    "lidar.shape"
   ]
  },
  {
   "cell_type": "code",
   "execution_count": 18,
   "metadata": {},
   "outputs": [
    {
     "data": {
      "text/plain": [
       "array([[-18089.97480067,  -6643.00718092],\n",
       "       [-78185.3642061 ,    666.54615094],\n",
       "       [-24478.38167794,    606.11858806],\n",
       "       ...,\n",
       "       [ 11124.3395477 ,  -1578.44551779],\n",
       "       [  9863.64196997,   -489.91508478],\n",
       "       [ 11129.37097472,   1494.70871345]])"
      ]
     },
     "execution_count": 18,
     "metadata": {},
     "output_type": "execute_result"
    }
   ],
   "source": [
    "pts_2d = calib.project_velo_to_image(lidar)\n",
    "pts_2d"
   ]
  },
  {
   "cell_type": "code",
   "execution_count": 21,
   "metadata": {},
   "outputs": [
    {
     "data": {
      "text/plain": [
       "(86185, 2)"
      ]
     },
     "execution_count": 21,
     "metadata": {},
     "output_type": "execute_result"
    }
   ],
   "source": [
    "pts_2d.shape"
   ]
  },
  {
   "cell_type": "code",
   "execution_count": null,
   "metadata": {},
   "outputs": [],
   "source": [
    "# for project_velo_to_image\n",
    "# project_velo_to_rect -> project_velo_to_ref \n",
    "# return project_rect_to_image\n"
   ]
  },
  {
   "cell_type": "code",
   "execution_count": 40,
   "metadata": {},
   "outputs": [
    {
     "data": {
      "text/plain": [
       "(86185, 3)"
      ]
     },
     "execution_count": 40,
     "metadata": {},
     "output_type": "execute_result"
    }
   ],
   "source": [
    "lidar.shape"
   ]
  },
  {
   "cell_type": "code",
   "execution_count": 44,
   "metadata": {},
   "outputs": [
    {
     "data": {
      "text/plain": [
       "array([[ 0.98827994, -3.1842089 ,  0.06784773],\n",
       "       [ 1.1977774 , -9.244704  ,  1.3878262 ],\n",
       "       [ 0.26670575, -9.436973  ,  1.2703398 ],\n",
       "       ...,\n",
       "       [-1.3755878 ,  8.158257  , -0.8259257 ],\n",
       "       [-2.0305152 ,  8.684352  , -0.22060311],\n",
       "       [-1.5611478 ,  8.712873  ,  1.6923585 ]], dtype=float32)"
      ]
     },
     "execution_count": 44,
     "metadata": {},
     "output_type": "execute_result"
    }
   ],
   "source": [
    "lidar"
   ]
  },
  {
   "cell_type": "code",
   "execution_count": 36,
   "metadata": {},
   "outputs": [
    {
     "data": {
      "text/plain": [
       "array([[ 1.17910675e-03, -9.99973260e-01,  7.21723153e-03,\n",
       "         1.36655887e-01],\n",
       "       [-4.88923834e-03, -7.22291508e-03, -9.99961962e-01,\n",
       "         1.37378626e+00],\n",
       "       [ 9.99987352e-01,  1.14377513e-03, -4.89762419e-03,\n",
       "        -1.61322160e+00]])"
      ]
     },
     "execution_count": 36,
     "metadata": {},
     "output_type": "execute_result"
    }
   ],
   "source": [
    "# V2C is calibs['Tr_velo_to_cam']\n",
    "V2C = [0.0011791067474549721, -0.9999732602806191, 0.007217231534861368, 0.13665588727286176, -0.00488923834063093, -0.007222915076280201, -0.9999619616996687, 1.3737862567369516, 0.9999873524478833, 0.0011437751311049182, -0.0048976241916725005, -1.6132216033055031]\n",
    "V2C = np.reshape(V2C, [3,4])\n",
    "V2C"
   ]
  },
  {
   "cell_type": "code",
   "execution_count": 37,
   "metadata": {},
   "outputs": [
    {
     "data": {
      "text/plain": [
       "(86185, 4)"
      ]
     },
     "execution_count": 37,
     "metadata": {},
     "output_type": "execute_result"
    }
   ],
   "source": [
    "cart2hom = calib.cart2hom(lidar)\n",
    "cart2hom.shape"
   ]
  },
  {
   "cell_type": "code",
   "execution_count": 38,
   "metadata": {},
   "outputs": [
    {
     "data": {
      "text/plain": [
       "array([[ 3.32243457,  1.32410844, -0.62892848],\n",
       "       [ 9.3925415 ,  0.04693034, -0.43283028],\n",
       "       [ 9.58285897,  0.1703532 , -1.36353465],\n",
       "       ...,\n",
       "       [-8.02896536,  2.14747973, -2.97541574],\n",
       "       [-8.55145015,  1.54158231, -3.63269774],\n",
       "       [-8.56561121, -0.37380738, -3.17267264]])"
      ]
     },
     "execution_count": 38,
     "metadata": {},
     "output_type": "execute_result"
    }
   ],
   "source": [
    "transposed_cart2hom = np.dot(cart2hom, np.transpose(V2C))\n",
    "transposed_cart2hom"
   ]
  },
  {
   "cell_type": "code",
   "execution_count": 39,
   "metadata": {},
   "outputs": [
    {
     "data": {
      "text/plain": [
       "(86185, 3)"
      ]
     },
     "execution_count": 39,
     "metadata": {},
     "output_type": "execute_result"
    }
   ],
   "source": [
    "transposed_cart2hom.shape\n"
   ]
  },
  {
   "cell_type": "code",
   "execution_count": 55,
   "metadata": {},
   "outputs": [
    {
     "data": {
      "text/plain": [
       "(3, 86185)"
      ]
     },
     "execution_count": 55,
     "metadata": {},
     "output_type": "execute_result"
    }
   ],
   "source": [
    "tr = np.transpose(transposed_cart2hom)\n",
    "tr.shape"
   ]
  },
  {
   "cell_type": "markdown",
   "metadata": {},
   "source": [
    "R0 = [1, 0, 0, 0, 1, 0, 0, 0, 1]\n",
    "R0 = np.reshape(R0, [3,3])"
   ]
  },
  {
   "cell_type": "code",
   "execution_count": 51,
   "metadata": {},
   "outputs": [],
   "source": [
    "ref_to_rect = np.transpose(np.dot(R0, np.transpose(transposed_cart2hom)))\n"
   ]
  },
  {
   "cell_type": "code",
   "execution_count": 52,
   "metadata": {},
   "outputs": [
    {
     "data": {
      "text/plain": [
       "array([[ 3.32243457,  1.32410844, -0.62892848],\n",
       "       [ 9.3925415 ,  0.04693034, -0.43283028],\n",
       "       [ 9.58285897,  0.1703532 , -1.36353465],\n",
       "       ...,\n",
       "       [-8.02896536,  2.14747973, -2.97541574],\n",
       "       [-8.55145015,  1.54158231, -3.63269774],\n",
       "       [-8.56561121, -0.37380738, -3.17267264]])"
      ]
     },
     "execution_count": 52,
     "metadata": {},
     "output_type": "execute_result"
    }
   ],
   "source": [
    "ref_to_rect"
   ]
  },
  {
   "cell_type": "code",
   "execution_count": 53,
   "metadata": {},
   "outputs": [
    {
     "data": {
      "text/plain": [
       "(86185, 3)"
      ]
     },
     "execution_count": 53,
     "metadata": {},
     "output_type": "execute_result"
    }
   ],
   "source": [
    "ref_to_rect.shape"
   ]
  },
  {
   "cell_type": "code",
   "execution_count": 1,
   "metadata": {},
   "outputs": [
    {
     "name": "stdout",
     "output_type": "stream",
     "text": [
      "9\n"
     ]
    }
   ],
   "source": [
    "s = 'Elon Musk'\n",
    "l = len(s)\n",
    "print(l)"
   ]
  },
  {
   "cell_type": "code",
   "execution_count": null,
   "metadata": {},
   "outputs": [],
   "source": []
  },
  {
   "cell_type": "code",
   "execution_count": null,
   "metadata": {},
   "outputs": [],
   "source": []
  }
 ],
 "metadata": {
  "kernelspec": {
   "display_name": "Python 3",
   "language": "python",
   "name": "python3"
  },
  "language_info": {
   "codemirror_mode": {
    "name": "ipython",
    "version": 3
   },
   "file_extension": ".py",
   "mimetype": "text/x-python",
   "name": "python",
   "nbconvert_exporter": "python",
   "pygments_lexer": "ipython3",
   "version": "3.8.5"
  }
 },
 "nbformat": 4,
 "nbformat_minor": 4
}
